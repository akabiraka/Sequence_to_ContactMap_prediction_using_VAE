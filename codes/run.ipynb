{
 "cells": [
  {
   "cell_type": "code",
   "execution_count": 60,
   "metadata": {},
   "outputs": [
    {
     "name": "stdout",
     "output_type": "stream",
     "text": [
      "The autoreload extension is already loaded. To reload it, use:\n",
      "  %reload_ext autoreload\n"
     ]
    }
   ],
   "source": [
    "import os\n",
    "from pdb_converter import PDBConverter\n",
    "from feature_generator import FeatureGenerator\n",
    "from input_generator import InputGenerator\n",
    "\n",
    "%matplotlib inline\n",
    "%load_ext autoreload\n",
    "%autoreload 2"
   ]
  },
  {
   "cell_type": "code",
   "execution_count": 44,
   "metadata": {},
   "outputs": [],
   "source": [
    "# pdb_converter = PDBConverter()\n",
    "# pdb_converter.do()"
   ]
  },
  {
   "cell_type": "code",
   "execution_count": 45,
   "metadata": {},
   "outputs": [
    {
     "name": "stdout",
     "output_type": "stream",
     "text": [
      "akabir:  torch.Size([10, 20])\n"
     ]
    }
   ],
   "source": [
    "feature_generator = FeatureGenerator()\n",
    "feature_generator.one_hot()"
   ]
  },
  {
   "cell_type": "code",
   "execution_count": 61,
   "metadata": {},
   "outputs": [
    {
     "name": "stdout",
     "output_type": "stream",
     "text": [
      "3ndq:  torch.Size([97, 20]) torch.Size([97, 97])\n",
      "9\n",
      "torch.Size([30, 20]) torch.Size([30, 20]) torch.Size([30, 30])\n",
      "torch.Size([30, 20]) torch.Size([30, 20]) torch.Size([30, 30])\n",
      "torch.Size([30, 20]) torch.Size([30, 20]) torch.Size([30, 30])\n",
      "torch.Size([30, 20]) torch.Size([30, 20]) torch.Size([30, 30])\n",
      "torch.Size([30, 20]) torch.Size([30, 20]) torch.Size([30, 30])\n",
      "torch.Size([30, 20]) torch.Size([30, 20]) torch.Size([30, 30])\n",
      "torch.Size([30, 20]) torch.Size([30, 20]) torch.Size([30, 30])\n",
      "torch.Size([30, 20]) torch.Size([30, 20]) torch.Size([30, 30])\n",
      "torch.Size([30, 20]) torch.Size([30, 20]) torch.Size([30, 30])\n"
     ]
    },
    {
     "data": {
      "image/png": "[encoded data removed]",
      "text/plain": [
       "<Figure size 432x288 with 9 Axes>"
      ]
     },
     "metadata": {},
     "output_type": "display_data"
    }
   ],
   "source": [
    "input_generator = InputGenerator()\n",
    "input_generator.get_input_output(\"3ndq\")"
   ]
  },
  {
   "cell_type": "code",
   "execution_count": null,
   "metadata": {},
   "outputs": [],
   "source": []
  }
 ],
 "metadata": {
  "kernelspec": {
   "display_name": "Python 3",
   "language": "python",
   "name": "python3"
  },
  "language_info": {
   "codemirror_mode": {
    "name": "ipython",
    "version": 3
   },
   "file_extension": ".py",
   "mimetype": "text/x-python",
   "name": "python",
   "nbconvert_exporter": "python",
   "pygments_lexer": "ipython3",
   "version": "3.6.9"
  }
 },
 "nbformat": 4,
 "nbformat_minor": 4
}
