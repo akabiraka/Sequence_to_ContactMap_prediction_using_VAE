{
 "cells": [
  {
   "cell_type": "code",
   "execution_count": 24,
   "metadata": {},
   "outputs": [
    {
     "name": "stdout",
     "output_type": "stream",
     "text": [
      "The autoreload extension is already loaded. To reload it, use:\n",
      "  %reload_ext autoreload\n"
     ]
    }
   ],
   "source": [
    "import os\n",
    "import torch \n",
    "import torch.nn as nn\n",
    "\n",
    "from pdb_converter import PDBConverter\n",
    "from feature_generator import FeatureGenerator\n",
    "from input_generator import InputGenerator\n",
    "from protein_dataset import ProteinDataset\n",
    "from models.basic_vae_1 import BasicVAE1\n",
    "from models.vae_loss import VAELoss\n",
    "\n",
    "%matplotlib inline\n",
    "%load_ext autoreload\n",
    "%autoreload 2"
   ]
  },
  {
   "cell_type": "code",
   "execution_count": 6,
   "metadata": {},
   "outputs": [
    {
     "name": "stdout",
     "output_type": "stream",
     "text": [
      "3ndq: 1-hot size: torch.Size([97, 20]) contact-map size: torch.Size([97, 97])\n",
      "9\n"
     ]
    },
    {
     "data": {
      "text/plain": [
       "torch.Size([1, 32, 32])"
      ]
     },
     "execution_count": 6,
     "metadata": {},
     "output_type": "execute_result"
    }
   ],
   "source": [
    "input_generator = InputGenerator()\n",
    "io_sets = input_generator.get_input_output(\"3ndq\")\n",
    "print(len(io_sets))\n",
    "inp, out = io_sets[0]\n",
    "out.unsqueeze_(0)\n",
    "inp.size()\n",
    "out.size()"
   ]
  },
  {
   "cell_type": "code",
   "execution_count": 7,
   "metadata": {},
   "outputs": [],
   "source": [
    "device = 'cuda' if torch.cuda.is_available() else 'cpu'\n",
    "model = BasicVAE1()\n",
    "model.to(device)\n",
    "loss = VAELoss()\n",
    "# print(model)"
   ]
  },
  {
   "cell_type": "code",
   "execution_count": 8,
   "metadata": {},
   "outputs": [
    {
     "name": "stdout",
     "output_type": "stream",
     "text": [
      "occurance matric: torch.Size([1, 1, 20, 20])\n",
      "z: torch.Size([1, 50])\n",
      "decoded: torch.Size([1, 1, 32, 32])\n",
      "torch.Size([1, 32, 32])\n",
      "torch.Size([1, 32, 32]) torch.Size([1, 32, 32])\n"
     ]
    },
    {
     "data": {
      "text/plain": [
       "tensor(1106.9000, device='cuda:0', grad_fn=<AddBackward0>)"
      ]
     },
     "execution_count": 8,
     "metadata": {},
     "output_type": "execute_result"
    }
   ],
   "source": [
    "x = inp.unsqueeze(0).to(device)\n",
    "out = out.to(device)\n",
    "# inp = batch_size, channel, \n",
    "\n",
    "y_prime, mu, logvar = model(x)\n",
    "y_prime.squeeze_(0)\n",
    "print(y_prime.size())\n",
    "loss(out, y_prime, mu, logvar)"
   ]
  },
  {
   "cell_type": "code",
   "execution_count": 32,
   "metadata": {},
   "outputs": [
    {
     "name": "stdout",
     "output_type": "stream",
     "text": [
      "Linear(in_features=20, out_features=30, bias=True)\n",
      "torch.Size([128, 20])\n",
      "torch.Size([128, 30])\n"
     ]
    },
    {
     "data": {
      "text/plain": [
       "torch.Size([128, 30])"
      ]
     },
     "execution_count": 32,
     "metadata": {},
     "output_type": "execute_result"
    }
   ],
   "source": [
    "m = nn.Linear(20, 30)\n",
    "print(m)\n",
    "input = torch.randn(128, 20)\n",
    "print(input.shape)\n",
    "output = m(input)\n",
    "print(output.size())\n",
    "torch.Size([128, 30])"
   ]
  },
  {
   "cell_type": "code",
   "execution_count": 25,
   "metadata": {},
   "outputs": [
    {
     "name": "stdout",
     "output_type": "stream",
     "text": [
      "1a1g: 1-hot size: torch.Size([84, 20]) contact-map size: torch.Size([84, 84])\n",
      "1a1g : 4\n",
      "3ndo: 1-hot size: torch.Size([450, 20]) contact-map size: torch.Size([450, 450])\n",
      "3ndo : 196\n",
      "3ndq: 1-hot size: torch.Size([97, 20]) contact-map size: torch.Size([97, 97])\n",
      "3ndq : 9\n",
      "209\n"
     ]
    }
   ],
   "source": [
    "pd = ProteinDataset()"
   ]
  },
  {
   "cell_type": "code",
   "execution_count": null,
   "metadata": {},
   "outputs": [],
   "source": []
  }
 ],
 "metadata": {
  "kernelspec": {
   "display_name": "Python 3",
   "language": "python",
   "name": "python3"
  },
  "language_info": {
   "codemirror_mode": {
    "name": "ipython",
    "version": 3
   },
   "file_extension": ".py",
   "mimetype": "text/x-python",
   "name": "python",
   "nbconvert_exporter": "python",
   "pygments_lexer": "ipython3",
   "version": "3.6.9"
  }
 },
 "nbformat": 4,
 "nbformat_minor": 4
}
