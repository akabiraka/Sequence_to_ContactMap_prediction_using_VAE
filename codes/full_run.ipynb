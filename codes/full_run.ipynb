{
 "cells": [
  {
   "cell_type": "code",
   "execution_count": 1,
   "metadata": {},
   "outputs": [],
   "source": [
    "import os\n",
    "import math\n",
    "import numpy as np\n",
    "import matplotlib.pyplot as plt\n",
    "\n",
    "import torch\n",
    "import torch.nn as nn\n",
    "import torch.optim as optim\n",
    "from torch.utils.data import DataLoader\n",
    "\n",
    "from protein_dataset import ProteinDataset\n",
    "import constants as CONSTANTS\n",
    "from models.basic_vae_1 import BasicVAE1\n",
    "from models.vae_loss import VAELoss\n",
    "\n",
    "\n",
    "%matplotlib inline\n",
    "%load_ext autoreload\n",
    "%autoreload 2"
   ]
  },
  {
   "cell_type": "code",
   "execution_count": 2,
   "metadata": {},
   "outputs": [],
   "source": [
    "device = 'cuda' if torch.cuda.is_available() else 'cpu'\n",
    "model = BasicVAE1()\n",
    "model.to(device)\n",
    "criterion = VAELoss()\n",
    "optimizer = optim.Adam(model.parameters(), lr=1e-3)\n",
    "batch_size = 3\n",
    "n_epochs = 5\n",
    "print_every = 1\n",
    "test_every = 1\n",
    "plot_every = 1"
   ]
  },
  {
   "cell_type": "code",
   "execution_count": 3,
   "metadata": {},
   "outputs": [
    {
     "name": "stdout",
     "output_type": "stream",
     "text": [
      "3t47A: 1-hot size: torch.Size([71, 20]) contact-map size: torch.Size([71, 71])\n",
      "5m1pA: 1-hot size: torch.Size([187, 20]) contact-map size: torch.Size([187, 187])\n",
      "3h6rA: 1-hot size: torch.Size([152, 20]) contact-map size: torch.Size([152, 152])\n",
      "4lx3A: 1-hot size: torch.Size([98, 20]) contact-map size: torch.Size([98, 98])\n",
      "4eiuA: 1-hot size: torch.Size([238, 20]) contact-map size: torch.Size([238, 238])\n",
      "5lwaA: 1-hot size: torch.Size([148, 20]) contact-map size: torch.Size([148, 148])\n",
      "1050\n",
      "torch.Size([1, 20, 64]) torch.Size([32, 32])\n"
     ]
    },
    {
     "data": {
      "text/plain": [
       "350"
      ]
     },
     "execution_count": 3,
     "metadata": {},
     "output_type": "execute_result"
    }
   ],
   "source": [
    "train_dataset = ProteinDataset(CONSTANTS.TRAIN_FILE)\n",
    "train_loader = DataLoader(train_dataset, batch_size=batch_size, shuffle=False)\n",
    "print(train_dataset.__len__())\n",
    "x, y = train_dataset.__getitem__(0)\n",
    "print(x.shape, y.shape)\n",
    "len(train_loader)"
   ]
  },
  {
   "cell_type": "code",
   "execution_count": 4,
   "metadata": {},
   "outputs": [
    {
     "name": "stdout",
     "output_type": "stream",
     "text": [
      "3l1nA: 1-hot size: torch.Size([152, 20]) contact-map size: torch.Size([152, 152])\n",
      "1ihjA: 1-hot size: torch.Size([94, 20]) contact-map size: torch.Size([94, 94])\n",
      "65\n"
     ]
    }
   ],
   "source": [
    "val_dataset = ProteinDataset(CONSTANTS.VAL_FILE)\n",
    "val_loader = DataLoader(val_dataset, batch_size=batch_size, shuffle=True)\n",
    "print(len(val_loader))"
   ]
  },
  {
   "cell_type": "code",
   "execution_count": 5,
   "metadata": {},
   "outputs": [
    {
     "name": "stdout",
     "output_type": "stream",
     "text": [
      "5fv6A: 1-hot size: torch.Size([168, 20]) contact-map size: torch.Size([168, 168])\n",
      "5sy8O: 1-hot size: torch.Size([155, 20]) contact-map size: torch.Size([155, 155])\n",
      "122\n"
     ]
    }
   ],
   "source": [
    "test_dataset = ProteinDataset(CONSTANTS.TEST_FILE)\n",
    "test_loader = DataLoader(test_dataset, batch_size=batch_size, shuffle=True)\n",
    "print(len(test_loader))"
   ]
  },
  {
   "cell_type": "code",
   "execution_count": 17,
   "metadata": {},
   "outputs": [],
   "source": [
    "def train():\n",
    "    model.train()\n",
    "    loss = 0.0\n",
    "    losses = []\n",
    "    n_train = len(train_loader)\n",
    "    for i, (x, y) in enumerate(train_loader):\n",
    "        x, y = x.to(device), y.to(device)\n",
    "#         print(\"x:\", x.shape, \"y:\", y.shape)\n",
    "        optimizer.zero_grad()\n",
    "        y_prime, mu, logvar = model(x)\n",
    "        # y_prime.squeeze_(0)\n",
    "#         print(\"y_prime:\", y_prime.size(), \"y:\", y.size())\n",
    "        loss = criterion(y, y_prime, mu, logvar)\n",
    "        # print(loss)\n",
    "        loss.backward()\n",
    "        optimizer.step()\n",
    "        losses.append(loss)\n",
    "        if i != 0 and i % 20 == 0:\n",
    "            print(\"training {}/{} th batch | loss: {:.5f}\".format(i, n_train, loss.item()))\n",
    "    return torch.stack(losses).mean().item()\n",
    "        "
   ]
  },
  {
   "cell_type": "code",
   "execution_count": 18,
   "metadata": {},
   "outputs": [
    {
     "name": "stdout",
     "output_type": "stream",
     "text": [
      "training 20/350 th batch | loss: 738.40961\n",
      "training 40/350 th batch | loss: 1514.11975\n",
      "training 60/350 th batch | loss: 891.15027\n",
      "training 80/350 th batch | loss: 902.41107\n",
      "training 100/350 th batch | loss: 1398.98804\n",
      "training 120/350 th batch | loss: 1934.84229\n",
      "training 140/350 th batch | loss: 1170.19409\n",
      "training 160/350 th batch | loss: 772.98529\n",
      "training 180/350 th batch | loss: 346.36389\n",
      "training 200/350 th batch | loss: 840.66211\n",
      "training 220/350 th batch | loss: 1323.32751\n",
      "training 240/350 th batch | loss: 592.86096\n",
      "training 260/350 th batch | loss: 634.13037\n",
      "training 280/350 th batch | loss: 1665.09412\n",
      "training 300/350 th batch | loss: 1274.25403\n",
      "training 320/350 th batch | loss: 1789.02026\n",
      "training 340/350 th batch | loss: 1844.22192\n"
     ]
    },
    {
     "data": {
      "text/plain": [
       "1354.26171875"
      ]
     },
     "execution_count": 18,
     "metadata": {},
     "output_type": "execute_result"
    }
   ],
   "source": [
    "train()"
   ]
  },
  {
   "cell_type": "code",
   "execution_count": 19,
   "metadata": {},
   "outputs": [],
   "source": [
    "def test(data_loader):\n",
    "    model.eval()\n",
    "    loss = 0.0\n",
    "    losses = []\n",
    "    n_test = len(data_loader)\n",
    "    for i, (x, y) in enumerate(data_loader):\n",
    "        x, y = x.to(device), y.to(device)\n",
    "        y_prime, mu, logvar = model(x)\n",
    "        loss = criterion(y, y_prime, mu, logvar)\n",
    "        losses.append(loss)\n",
    "        if i != 0 and i % 20 == 0:\n",
    "            print(\"testing {}/{} th batch | loss: {:.5f}\".format(i, n_test, loss.item()))\n",
    "    return torch.stack(losses).mean().item()"
   ]
  },
  {
   "cell_type": "code",
   "execution_count": null,
   "metadata": {},
   "outputs": [
    {
     "name": "stdout",
     "output_type": "stream",
     "text": [
      "Starting epoch 1/6\n",
      "training 20/350 th batch | loss: 759.95294\n",
      "training 40/350 th batch | loss: 1513.78503\n",
      "training 60/350 th batch | loss: 899.70898\n",
      "training 80/350 th batch | loss: 900.35449\n",
      "training 100/350 th batch | loss: 1392.16064\n",
      "training 120/350 th batch | loss: 1933.22510\n",
      "training 140/350 th batch | loss: 1178.62854\n",
      "training 160/350 th batch | loss: 782.98016\n",
      "training 180/350 th batch | loss: 333.92911\n",
      "training 200/350 th batch | loss: 833.68536\n",
      "training 220/350 th batch | loss: 1315.63428\n",
      "training 240/350 th batch | loss: 582.23535\n",
      "training 260/350 th batch | loss: 639.71240\n",
      "training 280/350 th batch | loss: 1654.26868\n",
      "training 300/350 th batch | loss: 1270.30859\n",
      "training 320/350 th batch | loss: 1778.84460\n",
      "training 340/350 th batch | loss: 1847.84924\n",
      "epoch:1/6, train_loss: 1351.84277\n",
      "testing 20/65 th batch | loss: 1376.84387\n",
      "testing 40/65 th batch | loss: 1249.75916\n",
      "testing 60/65 th batch | loss: 1160.00769\n",
      "epoch:1/6, val_loss: 1410.68127\n",
      "Updating best test loss: 1410.68127\n"
     ]
    },
    {
     "data": {
      "image/png": "[encoded data removed]",
      "text/plain": [
       "<Figure size 432x288 with 1 Axes>"
      ]
     },
     "metadata": {
      "needs_background": "light"
     },
     "output_type": "display_data"
    },
    {
     "name": "stdout",
     "output_type": "stream",
     "text": [
      "Starting epoch 2/6\n",
      "training 20/350 th batch | loss: 770.41266\n",
      "training 40/350 th batch | loss: 1515.60596\n",
      "training 60/350 th batch | loss: 907.03198\n",
      "training 80/350 th batch | loss: 899.62628\n",
      "training 100/350 th batch | loss: 1398.73926\n",
      "training 120/350 th batch | loss: 1936.28137\n",
      "training 140/350 th batch | loss: 1168.99109\n",
      "training 160/350 th batch | loss: 780.52710\n",
      "training 180/350 th batch | loss: 336.06415\n",
      "training 200/350 th batch | loss: 833.56018\n",
      "training 220/350 th batch | loss: 1300.97449\n",
      "training 240/350 th batch | loss: 576.11652\n",
      "training 260/350 th batch | loss: 631.90448\n",
      "training 280/350 th batch | loss: 1665.58044\n",
      "training 300/350 th batch | loss: 1268.27515\n",
      "training 320/350 th batch | loss: 1783.56958\n",
      "training 340/350 th batch | loss: 1838.73755\n",
      "epoch:2/6, train_loss: 1350.67786\n",
      "testing 20/65 th batch | loss: 2033.13770\n",
      "testing 40/65 th batch | loss: 1896.87671\n",
      "testing 60/65 th batch | loss: 1885.20239\n",
      "epoch:2/6, val_loss: 1411.31274\n"
     ]
    },
    {
     "data": {
      "image/png": "[encoded data removed]",
      "text/plain": [
       "<Figure size 432x288 with 1 Axes>"
      ]
     },
     "metadata": {
      "needs_background": "light"
     },
     "output_type": "display_data"
    },
    {
     "name": "stdout",
     "output_type": "stream",
     "text": [
      "Starting epoch 3/6\n",
      "training 20/350 th batch | loss: 770.33612\n",
      "training 40/350 th batch | loss: 1508.87598\n",
      "training 60/350 th batch | loss: 902.72961\n",
      "training 80/350 th batch | loss: 897.94598\n",
      "training 100/350 th batch | loss: 1389.33826\n",
      "training 120/350 th batch | loss: 1918.54358\n",
      "training 140/350 th batch | loss: 1169.82874\n",
      "training 160/350 th batch | loss: 788.24847\n",
      "training 180/350 th batch | loss: 337.47797\n",
      "training 200/350 th batch | loss: 832.49701\n",
      "training 220/350 th batch | loss: 1306.24109\n",
      "training 240/350 th batch | loss: 581.32336\n",
      "training 260/350 th batch | loss: 642.75580\n",
      "training 280/350 th batch | loss: 1660.20862\n",
      "training 300/350 th batch | loss: 1266.98364\n",
      "training 320/350 th batch | loss: 1780.02454\n",
      "training 340/350 th batch | loss: 1846.34204\n",
      "epoch:3/6, train_loss: 1349.84119\n",
      "testing 20/65 th batch | loss: 1860.80359\n",
      "testing 40/65 th batch | loss: 1301.79041\n",
      "testing 60/65 th batch | loss: 1421.97876\n",
      "epoch:3/6, val_loss: 1410.13525\n",
      "Updating best test loss: 1410.13525\n"
     ]
    },
    {
     "data": {
      "image/png": "[encoded data removed]",
      "text/plain": [
       "<Figure size 432x288 with 1 Axes>"
      ]
     },
     "metadata": {
      "needs_background": "light"
     },
     "output_type": "display_data"
    },
    {
     "name": "stdout",
     "output_type": "stream",
     "text": [
      "Starting epoch 4/6\n",
      "training 20/350 th batch | loss: 778.82947\n",
      "training 40/350 th batch | loss: 1504.56958\n",
      "training 60/350 th batch | loss: 898.95459\n",
      "training 80/350 th batch | loss: 896.64380\n",
      "training 100/350 th batch | loss: 1389.95996\n",
      "training 120/350 th batch | loss: 1922.66199\n"
     ]
    }
   ],
   "source": [
    "train_losses = []\n",
    "val_losses = []\n",
    "best_test_loss = np.inf\n",
    "for epoch in range(1, n_epochs+1):\n",
    "    print(\"Starting epoch {}/{}\".format(epoch, n_epochs+1))\n",
    "    \n",
    "    train_loss = train()\n",
    "    train_losses.append(train_loss)\n",
    "    \n",
    "    if epoch % print_every == 0:\n",
    "        print(\"epoch:{}/{}, train_loss: {:.5f}\".format(epoch, n_epochs+1, train_loss))\n",
    "    \n",
    "    if epoch % test_every == 0:\n",
    "        val_loss = test(val_loader)\n",
    "        print(\"epoch:{}/{}, val_loss: {:.5f}\".format(epoch, n_epochs+1, val_loss))\n",
    "        val_losses.append(val_loss)\n",
    "        if val_loss < best_test_loss:\n",
    "            best_test_loss = val_loss\n",
    "            print('Updating best test loss: {:.5f}'.format(best_test_loss))\n",
    "            torch.save(model.state_dict(),'../outputs/best_model.pth')\n",
    "    \n",
    "    if epoch % plot_every == 0:\n",
    "        plt.plot(train_losses)\n",
    "        plt.plot(val_losses)\n",
    "        plt.show()"
   ]
  },
  {
   "cell_type": "code",
   "execution_count": 11,
   "metadata": {},
   "outputs": [
    {
     "data": {
      "text/plain": [
       "1478.68994140625"
      ]
     },
     "execution_count": 11,
     "metadata": {},
     "output_type": "execute_result"
    }
   ],
   "source": [
    "test_loss = test(test_loader)\n",
    "test_loss"
   ]
  }
 ],
 "metadata": {
  "kernelspec": {
   "display_name": "Python 3",
   "language": "python",
   "name": "python3"
  },
  "language_info": {
   "codemirror_mode": {
    "name": "ipython",
    "version": 3
   },
   "file_extension": ".py",
   "mimetype": "text/x-python",
   "name": "python",
   "nbconvert_exporter": "python",
   "pygments_lexer": "ipython3",
   "version": "3.6.9"
  }
 },
 "nbformat": 4,
 "nbformat_minor": 4
}
